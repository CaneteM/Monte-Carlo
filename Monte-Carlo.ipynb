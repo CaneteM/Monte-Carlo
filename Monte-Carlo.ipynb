{
 "cells": [
  {
   "cell_type": "code",
   "execution_count": 1,
   "metadata": {},
   "outputs": [],
   "source": [
    "import random\n",
    "import numpy as np"
   ]
  },
  {
   "cell_type": "markdown",
   "metadata": {},
   "source": [
    "Let say that the Kinetic / Dynamic Monte-Carlo model parameters are k_1=k_2=0.2k 1=k2=0.2 and \\Delta t=2Δt=2. At time t=0t=0, there are 4 type-A particles and 3 type-B particles. The algorithm of the Kinetic / Dynamic Monte-Carlo model is given at the slide #119 of the “Introduction and general concepts” section. How many type-B particles there are after one time step at t=2? Note that in this algorithm, N is the total number of particles. It is very important to note that step (4) required N iterations of steps (2) and (3) before incrementing the time by \\Delta tΔt. Also, both step (2) and step (3) require one random number. To solve this problem, every time you need a random number pick the number in the following list.  Start by taking the first number and then take the second, etc. Never reuse twice a random number.You should have enough random number to answer the question. "
   ]
  },
  {
   "cell_type": "code",
   "execution_count": 18,
   "metadata": {},
   "outputs": [
    {
     "name": "stdout",
     "output_type": "stream",
     "text": [
      "1\n",
      "5 2\n",
      "4 3\n",
      "5 2\n"
     ]
    }
   ],
   "source": [
    "k1 = 0.2\n",
    "k2 = 0.2\n",
    "dt = 2\n",
    "A = 4\n",
    "B = 3\n",
    "N = A + B\n",
    "A_total = []\n",
    "B_total = []\n",
    "tmax = 2\n",
    "\n",
    "randomlist = [0.800, 0.801, 0.752, 0.661, 0.169, 0.956, 0.949, 0.003, 0.201, 0.291, \n",
    "              0.615, 0.131, 0.241, 0.685, 0.116, 0.241, 0.849]\n",
    "for _ in [1]:\n",
    "    print(_)\n",
    "    for i in range(0,N,1):\n",
    "#pop toma y elimina el elemento.En la primera posición, la cual va cambiando conforme se compara y quita de la lista el elemento\n",
    "#i-1.\n",
    "        if randomlist.pop(0) < A/N:\n",
    "        \n",
    "#compatración de los dos criterios para el modelo Monte Carlo. \n",
    "            if randomlist.pop(0) < k1*dt:\n",
    "                #A_total.append(randomlist[i])\n",
    "                A -=1\n",
    "                B +=1\n",
    "                print(A,B)\n",
    "        else:\n",
    "#se utiliza un if para comparar cada elemento de la lista. Mientras que un elif pasa al siguiente elemento de la lista.  \n",
    "            if randomlist.pop(0) < k2*dt:\n",
    "                #B_total.append(randomlist[i])\n",
    "                A +=1\n",
    "                B -=1\n",
    "                print(A,B)\n"
   ]
  }
 ],
 "metadata": {
  "kernelspec": {
   "display_name": "Python 3",
   "language": "python",
   "name": "python3"
  },
  "language_info": {
   "codemirror_mode": {
    "name": "ipython",
    "version": 3
   },
   "file_extension": ".py",
   "mimetype": "text/x-python",
   "name": "python",
   "nbconvert_exporter": "python",
   "pygments_lexer": "ipython3",
   "version": "3.7.3"
  }
 },
 "nbformat": 4,
 "nbformat_minor": 2
}
